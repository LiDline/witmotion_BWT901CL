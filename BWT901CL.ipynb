{
 "cells": [
  {
   "cell_type": "code",
   "execution_count": 9,
   "metadata": {},
   "outputs": [],
   "source": [
    "import bluetooth\n",
    "import time\n",
    "import os\n",
    "import func.graph_settings as gs\n",
    "import func.data_processing as dp"
   ]
  },
  {
   "cell_type": "code",
   "execution_count": 10,
   "metadata": {},
   "outputs": [
    {
     "data": {
      "application/vnd.jupyter.widget-view+json": {
       "model_id": "0abf9d1c4f0648e68ea89bb81acd95cd",
       "version_major": 2,
       "version_minor": 0
      },
      "text/plain": [
       "FigureWidget({\n",
       "    'data': [{'legendgroup': 'group0',\n",
       "              'line': {'color': 'red'},\n",
       "              'm…"
      ]
     },
     "metadata": {},
     "output_type": "display_data"
    }
   ],
   "source": [
    "# Сначала отобразим график\n",
    "fig = gs.graph_settings()\n",
    "fig"
   ]
  },
  {
   "cell_type": "code",
   "execution_count": 11,
   "metadata": {},
   "outputs": [
    {
     "name": "stdout",
     "output_type": "stream",
     "text": [
      "Found 1 devices.\n",
      "  00:0C:BF:0C:24:17 - HC-06\n"
     ]
    }
   ],
   "source": [
    "# Найдём датчик, чтобы узнать его MAC\n",
    "os.system(\"rfkill unblock bluetooth\")\n",
    "time.sleep(0.5)   # Если bluetooth не включён, то будет ошибка\n",
    "\n",
    "nearby_devices = bluetooth.discover_devices(lookup_names=True)\n",
    "print(\"Found {} devices.\".format(len(nearby_devices)))\n",
    "\n",
    "for addr, name in nearby_devices:\n",
    "    print(\"  {} - {}\".format(addr, name))"
   ]
  },
  {
   "cell_type": "code",
   "execution_count": 13,
   "metadata": {},
   "outputs": [
    {
     "name": "stdout",
     "output_type": "stream",
     "text": [
      "bluetooth перезапущен.\n",
      "Устройство подключено, идёт снятие данных. Для завершения нажмите ctrl + C (Interrupt).\n",
      "Считывание завершено.\n",
      "Состояние bluetooth компьютера: 0.\n",
      "Таблица сохранена в папке проекта.\n"
     ]
    }
   ],
   "source": [
    "df = dp.data_capture(fig, device=['bluetooth', \"00:0C:BF:0C:24:17\"], x_label_size = 50)   # device=['usb', '/dev/ttyUSB0']\n",
    "df.to_csv('BWT901CL_res.csv')\n",
    "print('Таблица сохранена в папке проекта.')"
   ]
  },
  {
   "cell_type": "code",
   "execution_count": null,
   "metadata": {},
   "outputs": [],
   "source": []
  }
 ],
 "metadata": {
  "kernelspec": {
   "display_name": "base",
   "language": "python",
   "name": "python3"
  },
  "language_info": {
   "codemirror_mode": {
    "name": "ipython",
    "version": 3
   },
   "file_extension": ".py",
   "mimetype": "text/x-python",
   "name": "python",
   "nbconvert_exporter": "python",
   "pygments_lexer": "ipython3",
   "version": "3.9.13"
  },
  "orig_nbformat": 4,
  "vscode": {
   "interpreter": {
    "hash": "a39035efadad5b01e261e85680f3b523d6683ba5377bad6c3b0cfdb6b813d3da"
   }
  }
 },
 "nbformat": 4,
 "nbformat_minor": 2
}
